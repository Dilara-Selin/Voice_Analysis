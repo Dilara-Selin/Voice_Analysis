{
 "cells": [
  {
   "cell_type": "code",
   "execution_count": 1,
   "metadata": {},
   "outputs": [
    {
     "name": "stdout",
     "output_type": "stream",
     "text": [
      "kader_01 için ses kaydediliyor...\n",
      "kader_01.wav kaydedildi!\n"
     ]
    }
   ],
   "source": [
    "import sounddevice as sd\n",
    "from scipy.io.wavfile import write\n",
    "\n",
    "def ses_kaydetme(sesler, sure=5):\n",
    "    print(f\"{sesler} için ses kaydediliyor...\")\n",
    "    fs = 44100  # Örnekleme frekansı\n",
    "    ses = sd.rec(int(sure * fs), samplerate=fs, channels=1)\n",
    "    sd.wait()  # Kayıt tamamlanana kadar bekle\n",
    "    write(f\"{sesler}.wav\", fs, ses)\n",
    "    print(f\"{sesler}.wav kaydedildi!\")\n",
    "\n",
    "# Kullanıcıların seslerini kaydedin\n",
    "ses_kaydetme(\"kader_01\", sure=5)"
   ]
  }
 ],
 "metadata": {
  "kernelspec": {
   "display_name": "myenv",
   "language": "python",
   "name": "python3"
  },
  "language_info": {
   "codemirror_mode": {
    "name": "ipython",
    "version": 3
   },
   "file_extension": ".py",
   "mimetype": "text/x-python",
   "name": "python",
   "nbconvert_exporter": "python",
   "pygments_lexer": "ipython3",
   "version": "3.12.6"
  }
 },
 "nbformat": 4,
 "nbformat_minor": 2
}
